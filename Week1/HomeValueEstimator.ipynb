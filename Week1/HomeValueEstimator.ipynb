{
 "cells": [
  {
   "cell_type": "code",
   "execution_count": 3,
   "outputs": [],
   "source": [
    "# Some convenience methods\n",
    "\n",
    "def print_line(text: str):\n",
    "    print(f\"{text}\\n\");"
   ],
   "metadata": {
    "collapsed": false,
    "ExecuteTime": {
     "start_time": "2024-10-26T01:40:09.727852Z",
     "end_time": "2024-10-26T01:40:09.734628Z"
    }
   }
  },
  {
   "cell_type": "code",
   "execution_count": 4,
   "outputs": [],
   "source": [
    "# Imports\n",
    "\n",
    "import pandas as pd;\n",
    "from sklearn.model_selection import train_test_split;\n",
    "from sklearn.linear_model import LinearRegression;\n",
    "from sklearn.metrics import mean_squared_error;"
   ],
   "metadata": {
    "collapsed": false,
    "ExecuteTime": {
     "start_time": "2024-10-26T01:40:09.733530Z",
     "end_time": "2024-10-26T01:40:10.972912Z"
    }
   }
  },
  {
   "cell_type": "code",
   "execution_count": 5,
   "outputs": [
    {
     "name": "stdout",
     "output_type": "stream",
     "text": [
      "Index(['car_ID', 'wheelbase', 'carlength', 'carwidth', 'carheight',\n",
      "       'curbweight', 'enginesize', 'boreratio', 'stroke', 'compressionratio',\n",
      "       'horsepower', 'peakrpm', 'citympg', 'highwaympg', 'price'],\n",
      "      dtype='object')\n",
      "\n",
      "   wheelbase  carlength  carwidth  carheight  curbweight  enginesize  \\\n",
      "0       88.6      168.8      64.1       48.8        2548         130   \n",
      "1       88.6      168.8      64.1       48.8        2548         130   \n",
      "2       94.5      171.2      65.5       52.4        2823         152   \n",
      "3       99.8      176.6      66.2       54.3        2337         109   \n",
      "4       99.4      176.6      66.4       54.3        2824         136   \n",
      "\n",
      "   boreratio  stroke  compressionratio  horsepower  peakrpm  citympg  \\\n",
      "0       3.47    2.68               9.0         111     5000       21   \n",
      "1       3.47    2.68               9.0         111     5000       21   \n",
      "2       2.68    3.47               9.0         154     5000       19   \n",
      "3       3.19    3.40              10.0         102     5500       24   \n",
      "4       3.19    3.40               8.0         115     5500       18   \n",
      "\n",
      "   highwaympg    price  \n",
      "0          27  13495.0  \n",
      "1          27  16500.0  \n",
      "2          26  16500.0  \n",
      "3          30  13950.0  \n",
      "4          22  17450.0  \n",
      "\n"
     ]
    }
   ],
   "source": [
    "# Load the dataset\n",
    "\n",
    "dataset = pd.read_csv(\"../Datasets/carprice.csv\");\n",
    "\n",
    "# View columns\n",
    "print_line(dataset.columns);\n",
    "\n",
    "# Over here, we delete car_ID because it is useless in predicting the price of the car\n",
    "del dataset[\"car_ID\"];\n",
    "\n",
    "print_line(dataset.head());"
   ],
   "metadata": {
    "collapsed": false,
    "ExecuteTime": {
     "start_time": "2024-10-26T01:40:10.973559Z",
     "end_time": "2024-10-26T01:40:10.983703Z"
    }
   }
  },
  {
   "cell_type": "code",
   "execution_count": 6,
   "outputs": [
    {
     "name": "stdout",
     "output_type": "stream",
     "text": [
      "   wheelbase  carlength  carwidth  carheight  curbweight  enginesize  \\\n",
      "0       88.6      168.8      64.1       48.8        2548         130   \n",
      "1       88.6      168.8      64.1       48.8        2548         130   \n",
      "2       94.5      171.2      65.5       52.4        2823         152   \n",
      "3       99.8      176.6      66.2       54.3        2337         109   \n",
      "4       99.4      176.6      66.4       54.3        2824         136   \n",
      "\n",
      "   boreratio  stroke  compressionratio  horsepower  peakrpm  citympg  \\\n",
      "0       3.47    2.68               9.0         111     5000       21   \n",
      "1       3.47    2.68               9.0         111     5000       21   \n",
      "2       2.68    3.47               9.0         154     5000       19   \n",
      "3       3.19    3.40              10.0         102     5500       24   \n",
      "4       3.19    3.40               8.0         115     5500       18   \n",
      "\n",
      "   highwaympg  \n",
      "0          27  \n",
      "1          27  \n",
      "2          26  \n",
      "3          30  \n",
      "4          22  \n",
      "\n",
      "0    13495.0\n",
      "1    16500.0\n",
      "2    16500.0\n",
      "3    13950.0\n",
      "4    17450.0\n",
      "Name: price, dtype: float64\n",
      "\n"
     ]
    }
   ],
   "source": [
    "# Split columns into features ( The other columns ) and target ( \"price\" )\n",
    "\n",
    "price = dataset[\"price\"];\n",
    "del dataset[\"price\"];\n",
    "\n",
    "print_line(dataset.head());\n",
    "print_line(price.head());"
   ],
   "metadata": {
    "collapsed": false,
    "ExecuteTime": {
     "start_time": "2024-10-26T01:40:10.984453Z",
     "end_time": "2024-10-26T01:40:10.988296Z"
    }
   }
  },
  {
   "cell_type": "code",
   "execution_count": 6,
   "outputs": [],
   "source": [],
   "metadata": {
    "collapsed": false,
    "ExecuteTime": {
     "start_time": "2024-10-26T01:40:10.988542Z",
     "end_time": "2024-10-26T01:40:10.989857Z"
    }
   }
  }
 ],
 "metadata": {
  "kernelspec": {
   "name": "python3",
   "language": "python",
   "display_name": "Python 3 (ipykernel)"
  }
 },
 "nbformat": 4,
 "nbformat_minor": 5
}
