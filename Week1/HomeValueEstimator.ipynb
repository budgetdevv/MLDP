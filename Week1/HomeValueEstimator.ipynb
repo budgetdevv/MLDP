{
 "cells": [
  {
   "cell_type": "code",
   "execution_count": 54,
   "outputs": [],
   "source": [
    "# Some convenience methods\n",
    "\n",
    "def print_line(text: str):\n",
    "    print(f\"{text}\\n\");"
   ],
   "metadata": {
    "collapsed": false,
    "ExecuteTime": {
     "start_time": "2024-10-26T01:56:33.690303Z",
     "end_time": "2024-10-26T01:56:33.704352Z"
    }
   }
  },
  {
   "cell_type": "code",
   "execution_count": 55,
   "outputs": [],
   "source": [
    "# Imports\n",
    "\n",
    "import pandas as pd;\n",
    "from sklearn.model_selection import train_test_split;\n",
    "from sklearn.linear_model import LinearRegression;\n",
    "from sklearn.metrics import mean_squared_error;"
   ],
   "metadata": {
    "collapsed": false,
    "ExecuteTime": {
     "start_time": "2024-10-26T01:56:33.693576Z",
     "end_time": "2024-10-26T01:56:33.705120Z"
    }
   }
  },
  {
   "cell_type": "code",
   "execution_count": 56,
   "outputs": [
    {
     "name": "stdout",
     "output_type": "stream",
     "text": [
      "Index(['car_ID', 'wheelbase', 'carlength', 'carwidth', 'carheight',\n",
      "       'curbweight', 'enginesize', 'boreratio', 'stroke', 'compressionratio',\n",
      "       'horsepower', 'peakrpm', 'citympg', 'highwaympg', 'price'],\n",
      "      dtype='object')\n",
      "\n",
      "   wheelbase  carlength  carwidth  carheight  curbweight  enginesize  \\\n",
      "0       88.6      168.8      64.1       48.8        2548         130   \n",
      "1       88.6      168.8      64.1       48.8        2548         130   \n",
      "2       94.5      171.2      65.5       52.4        2823         152   \n",
      "3       99.8      176.6      66.2       54.3        2337         109   \n",
      "4       99.4      176.6      66.4       54.3        2824         136   \n",
      "\n",
      "   boreratio  stroke  compressionratio  horsepower  peakrpm  citympg  \\\n",
      "0       3.47    2.68               9.0         111     5000       21   \n",
      "1       3.47    2.68               9.0         111     5000       21   \n",
      "2       2.68    3.47               9.0         154     5000       19   \n",
      "3       3.19    3.40              10.0         102     5500       24   \n",
      "4       3.19    3.40               8.0         115     5500       18   \n",
      "\n",
      "   highwaympg    price  \n",
      "0          27  13495.0  \n",
      "1          27  16500.0  \n",
      "2          26  16500.0  \n",
      "3          30  13950.0  \n",
      "4          22  17450.0  \n",
      "\n"
     ]
    }
   ],
   "source": [
    "# Load the dataset\n",
    "\n",
    "dataset = pd.read_csv(\"../Datasets/carprice.csv\");\n",
    "\n",
    "# View columns\n",
    "print_line(dataset.columns);\n",
    "\n",
    "# Over here, we delete car_ID because it is useless in predicting the price of the car\n",
    "del dataset[\"car_ID\"];\n",
    "\n",
    "print_line(dataset.head());"
   ],
   "metadata": {
    "collapsed": false,
    "ExecuteTime": {
     "start_time": "2024-10-26T01:56:33.696679Z",
     "end_time": "2024-10-26T01:56:33.710810Z"
    }
   }
  },
  {
   "cell_type": "code",
   "execution_count": 57,
   "outputs": [
    {
     "name": "stdout",
     "output_type": "stream",
     "text": [
      "   wheelbase  carlength  carwidth  carheight  curbweight  enginesize  \\\n",
      "0       88.6      168.8      64.1       48.8        2548         130   \n",
      "1       88.6      168.8      64.1       48.8        2548         130   \n",
      "2       94.5      171.2      65.5       52.4        2823         152   \n",
      "3       99.8      176.6      66.2       54.3        2337         109   \n",
      "4       99.4      176.6      66.4       54.3        2824         136   \n",
      "\n",
      "   boreratio  stroke  compressionratio  horsepower  peakrpm  citympg  \\\n",
      "0       3.47    2.68               9.0         111     5000       21   \n",
      "1       3.47    2.68               9.0         111     5000       21   \n",
      "2       2.68    3.47               9.0         154     5000       19   \n",
      "3       3.19    3.40              10.0         102     5500       24   \n",
      "4       3.19    3.40               8.0         115     5500       18   \n",
      "\n",
      "   highwaympg  \n",
      "0          27  \n",
      "1          27  \n",
      "2          26  \n",
      "3          30  \n",
      "4          22  \n",
      "\n",
      "0    13495.0\n",
      "1    16500.0\n",
      "2    16500.0\n",
      "3    13950.0\n",
      "4    17450.0\n",
      "Name: price, dtype: float64\n",
      "\n"
     ]
    }
   ],
   "source": [
    "# Split columns into features ( The other columns ) and target ( \"price\" )\n",
    "\n",
    "price = dataset[\"price\"];\n",
    "del dataset[\"price\"];\n",
    "features = dataset;\n",
    "\n",
    "print_line(features.head());\n",
    "print_line(price.head());\n",
    "\n",
    "# Convert the features and target into numpy arrays\n",
    "features = features.values;\n",
    "price = price.values;"
   ],
   "metadata": {
    "collapsed": false,
    "ExecuteTime": {
     "start_time": "2024-10-26T01:56:33.714265Z",
     "end_time": "2024-10-26T01:56:33.716414Z"
    }
   }
  },
  {
   "cell_type": "code",
   "execution_count": 58,
   "outputs": [],
   "source": [
    "# Split the dataset into training and testing datasets\n",
    "\n",
    "features_train, features_test, price_train, price_test = train_test_split(\n",
    "    features,\n",
    "    price,\n",
    "    train_size=0.8, # 80% of the dataset would be used for training, the rest for testing\n",
    "    random_state=69 # This is akin to a seed for random number generation, same seed would result in the same features_train, features_test, price_train and price_test\n",
    ");\n",
    "\n",
    "# Train a linear regression model\n",
    "linear_regression = LinearRegression();\n",
    "linear_regression.fit(features_train, price_train);"
   ],
   "metadata": {
    "collapsed": false,
    "ExecuteTime": {
     "start_time": "2024-10-26T01:56:33.719695Z",
     "end_time": "2024-10-26T01:56:33.722544Z"
    }
   }
  },
  {
   "cell_type": "code",
   "execution_count": 59,
   "outputs": [
    {
     "name": "stdout",
     "output_type": "stream",
     "text": [
      "Mean Squared Error: 9336015.66325267\n",
      "\n"
     ]
    }
   ],
   "source": [
    "# Evaluate the model\n",
    "\n",
    "price_predictions = linear_regression.predict(features_test);\n",
    "\n",
    "mean_squared_error = mean_squared_error(price_test, price_predictions);\n",
    "\n",
    "print_line(f\"Mean Squared Error: {mean_squared_error}\");"
   ],
   "metadata": {
    "collapsed": false,
    "ExecuteTime": {
     "start_time": "2024-10-26T01:56:33.723506Z",
     "end_time": "2024-10-26T01:56:33.725355Z"
    }
   }
  }
 ],
 "metadata": {
  "kernelspec": {
   "name": "python3",
   "language": "python",
   "display_name": "Python 3 (ipykernel)"
  }
 },
 "nbformat": 4,
 "nbformat_minor": 5
}
