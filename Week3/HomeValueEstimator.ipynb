{
 "cells": [
  {
   "cell_type": "code",
   "execution_count": 49,
   "outputs": [
    {
     "name": "stdout",
     "output_type": "stream",
     "text": [
      "Index(['car_ID', 'wheelbase', 'carlength', 'carwidth', 'carheight',\n",
      "       'curbweight', 'enginesize', 'boreratio', 'stroke', 'compressionratio',\n",
      "       'horsepower', 'peakrpm', 'citympg', 'highwaympg', 'price'],\n",
      "      dtype='object')\n",
      "\n",
      "   wheelbase  carlength  carwidth  carheight  curbweight  enginesize  \\\n",
      "0       88.6      168.8      64.1       48.8        2548         130   \n",
      "1       88.6      168.8      64.1       48.8        2548         130   \n",
      "2       94.5      171.2      65.5       52.4        2823         152   \n",
      "3       99.8      176.6      66.2       54.3        2337         109   \n",
      "4       99.4      176.6      66.4       54.3        2824         136   \n",
      "\n",
      "   boreratio  stroke  compressionratio  horsepower  peakrpm  citympg  \\\n",
      "0       3.47    2.68               9.0         111     5000       21   \n",
      "1       3.47    2.68               9.0         111     5000       21   \n",
      "2       2.68    3.47               9.0         154     5000       19   \n",
      "3       3.19    3.40              10.0         102     5500       24   \n",
      "4       3.19    3.40               8.0         115     5500       18   \n",
      "\n",
      "   highwaympg    price  \n",
      "0          27  13495.0  \n",
      "1          27  16500.0  \n",
      "2          26  16500.0  \n",
      "3          30  13950.0  \n",
      "4          22  17450.0  \n",
      "\n",
      "   wheelbase  carlength  carwidth  carheight  curbweight  enginesize  \\\n",
      "0       88.6      168.8      64.1       48.8        2548         130   \n",
      "1       88.6      168.8      64.1       48.8        2548         130   \n",
      "2       94.5      171.2      65.5       52.4        2823         152   \n",
      "3       99.8      176.6      66.2       54.3        2337         109   \n",
      "4       99.4      176.6      66.4       54.3        2824         136   \n",
      "\n",
      "   boreratio  stroke  compressionratio  horsepower  peakrpm  citympg  \\\n",
      "0       3.47    2.68               9.0         111     5000       21   \n",
      "1       3.47    2.68               9.0         111     5000       21   \n",
      "2       2.68    3.47               9.0         154     5000       19   \n",
      "3       3.19    3.40              10.0         102     5500       24   \n",
      "4       3.19    3.40               8.0         115     5500       18   \n",
      "\n",
      "   highwaympg  \n",
      "0          27  \n",
      "1          27  \n",
      "2          26  \n",
      "3          30  \n",
      "4          22  \n",
      "\n",
      "0    13495.0\n",
      "1    16500.0\n",
      "2    16500.0\n",
      "3    13950.0\n",
      "4    17450.0\n",
      "Name: price, dtype: float64\n",
      "\n",
      "Mean Squared Error: 9336015.66325267\n",
      "\n"
     ]
    },
    {
     "name": "stderr",
     "output_type": "stream",
     "text": [
      "/Library/Frameworks/Python.framework/Versions/3.11/lib/python3.11/site-packages/nbformat/__init__.py:96: MissingIDFieldWarning: Cell is missing an id field, this will become a hard error in future nbformat versions. You may want to use `normalize()` on your notebooks before validations (available since nbformat 5.1.4). Previous versions of nbformat are fixing this issue transparently, and will stop doing so in the future.\n",
      "  validate(nb)\n"
     ]
    }
   ],
   "source": [
    "# noinspection PyUnresolvedReferences\n",
    "\n",
    "# Run week 2 labs\n",
    "\n",
    "%run ../Week2/HomeValueEstimator.ipynb\n",
    "\n",
    "# Ignore error for variables and functions defined in HomeValueEstimator.ipynb\n",
    "\n",
    "# Variables\n",
    "\n",
    "# noinspection PyUnresolvedReferences\n",
    "RANDOM_STATE = RANDOM_STATE;\n",
    "# noinspection PyUnresolvedReferences\n",
    "features_train = features_train;\n",
    "# noinspection PyUnresolvedReferences\n",
    "features_test = features_test;\n",
    "# noinspection PyUnresolvedReferences\n",
    "price_train = price_train;\n",
    "# noinspection PyUnresolvedReferences\n",
    "price_test = price_test;\n",
    "# noinspection PyUnresolvedReferences\n",
    "mean_squared_error = mean_squared_error;\n",
    "\n",
    "# Functions\n",
    "\n",
    "# noinspection PyUnresolvedReferences\n",
    "print_line = print_line;\n"
   ],
   "metadata": {
    "collapsed": false,
    "ExecuteTime": {
     "start_time": "2024-10-26T02:23:03.390730Z",
     "end_time": "2024-10-26T02:23:03.402811Z"
    }
   }
  },
  {
   "cell_type": "code",
   "execution_count": 50,
   "outputs": [],
   "source": [
    "# Import DecisionTreeRegressor\n",
    "from sklearn.tree import DecisionTreeRegressor"
   ],
   "metadata": {
    "collapsed": false,
    "ExecuteTime": {
     "start_time": "2024-10-26T02:23:03.403764Z",
     "end_time": "2024-10-26T02:23:03.405243Z"
    }
   }
  },
  {
   "cell_type": "markdown",
   "source": [],
   "metadata": {
    "collapsed": false
   }
  },
  {
   "cell_type": "code",
   "execution_count": 51,
   "outputs": [],
   "source": [
    "decision_tree = DecisionTreeRegressor(random_state=RANDOM_STATE);\n",
    "decision_tree.fit(features_train, price_train);"
   ],
   "metadata": {
    "collapsed": false,
    "ExecuteTime": {
     "start_time": "2024-10-26T02:23:03.406105Z",
     "end_time": "2024-10-26T02:23:03.409881Z"
    }
   }
  },
  {
   "cell_type": "code",
   "execution_count": 52,
   "outputs": [
    {
     "name": "stdout",
     "output_type": "stream",
     "text": [
      "Mean Squared Error: 7345243.282012195\n",
      "\n"
     ]
    }
   ],
   "source": [
    "mse = mean_squared_error(price_test, decision_tree.predict(features_test));\n",
    "\n",
    "print_line(f\"Mean Squared Error: {mse}\");"
   ],
   "metadata": {
    "collapsed": false,
    "ExecuteTime": {
     "start_time": "2024-10-26T02:23:03.408910Z",
     "end_time": "2024-10-26T02:23:03.412282Z"
    }
   }
  }
 ],
 "metadata": {
  "kernelspec": {
   "name": "python3",
   "language": "python",
   "display_name": "Python 3 (ipykernel)"
  }
 },
 "nbformat": 4,
 "nbformat_minor": 5
}
