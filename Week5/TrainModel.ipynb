{
 "cells": [
  {
   "cell_type": "code",
   "execution_count": 125,
   "metadata": {
    "collapsed": true,
    "ExecuteTime": {
     "start_time": "2024-10-26T06:50:50.670985Z",
     "end_time": "2024-10-26T06:50:50.673898Z"
    }
   },
   "outputs": [],
   "source": [
    "# Import stuff\n",
    "\n",
    "import pandas as pd;\n",
    "from sklearn.model_selection import train_test_split;\n",
    "from sklearn import ensemble;\n",
    "from sklearn.metrics import mean_absolute_error;\n",
    "import joblib;\n",
    "import sys;\n",
    "\n",
    "sys.path.append(\"../Shared\")\n",
    "\n",
    "# noinspection PyUnresolvedReferences\n",
    "import helpers;\n",
    "print_line = helpers.print_line;\n",
    "notebook_print = helpers.notebook_print;"
   ]
  },
  {
   "cell_type": "code",
   "execution_count": 126,
   "outputs": [
    {
     "name": "stdout",
     "output_type": "stream",
     "text": [
      "Index(['year_built', 'stories', 'num_bedrooms', 'full_bathrooms',\n",
      "       'half_bathrooms', 'livable_sqft', 'total_sqft', 'garage_sqft',\n",
      "       'carport_sqft', 'has_fireplace', 'has_pool', 'has_central_heating',\n",
      "       'has_central_cooling', 'garage_type_attached', 'garage_type_detached',\n",
      "       'garage_type_none'],\n",
      "      dtype='object')\n",
      "\n"
     ]
    },
    {
     "data": {
      "text/plain": "   year_built  stories  num_bedrooms  full_bathrooms  half_bathrooms  \\\n0        1978        1             4               1               1   \n1        1958        1             3               1               1   \n2        2002        1             3               2               0   \n3        2004        1             4               2               0   \n4        2006        1             4               2               0   \n\n   livable_sqft  total_sqft  garage_sqft  carport_sqft  has_fireplace  \\\n0          1689        1859          508             0           True   \n1          1984        2002          462             0           True   \n2          1581        1578            0           625          False   \n3          1829        2277          479             0           True   \n4          1580        1749          430             0           True   \n\n   has_pool  has_central_heating  has_central_cooling  garage_type_attached  \\\n0     False                 True                 True                     1   \n1     False                 True                 True                     1   \n2     False                 True                 True                     0   \n3     False                 True                 True                     1   \n4     False                 True                 True                     1   \n\n   garage_type_detached  garage_type_none  \n0                     0                 0  \n1                     0                 0  \n2                     0                 1  \n3                     0                 0  \n4                     0                 0  ",
      "text/html": "<div>\n<style scoped>\n    .dataframe tbody tr th:only-of-type {\n        vertical-align: middle;\n    }\n\n    .dataframe tbody tr th {\n        vertical-align: top;\n    }\n\n    .dataframe thead th {\n        text-align: right;\n    }\n</style>\n<table border=\"1\" class=\"dataframe\">\n  <thead>\n    <tr style=\"text-align: right;\">\n      <th></th>\n      <th>year_built</th>\n      <th>stories</th>\n      <th>num_bedrooms</th>\n      <th>full_bathrooms</th>\n      <th>half_bathrooms</th>\n      <th>livable_sqft</th>\n      <th>total_sqft</th>\n      <th>garage_sqft</th>\n      <th>carport_sqft</th>\n      <th>has_fireplace</th>\n      <th>has_pool</th>\n      <th>has_central_heating</th>\n      <th>has_central_cooling</th>\n      <th>garage_type_attached</th>\n      <th>garage_type_detached</th>\n      <th>garage_type_none</th>\n    </tr>\n  </thead>\n  <tbody>\n    <tr>\n      <th>0</th>\n      <td>1978</td>\n      <td>1</td>\n      <td>4</td>\n      <td>1</td>\n      <td>1</td>\n      <td>1689</td>\n      <td>1859</td>\n      <td>508</td>\n      <td>0</td>\n      <td>True</td>\n      <td>False</td>\n      <td>True</td>\n      <td>True</td>\n      <td>1</td>\n      <td>0</td>\n      <td>0</td>\n    </tr>\n    <tr>\n      <th>1</th>\n      <td>1958</td>\n      <td>1</td>\n      <td>3</td>\n      <td>1</td>\n      <td>1</td>\n      <td>1984</td>\n      <td>2002</td>\n      <td>462</td>\n      <td>0</td>\n      <td>True</td>\n      <td>False</td>\n      <td>True</td>\n      <td>True</td>\n      <td>1</td>\n      <td>0</td>\n      <td>0</td>\n    </tr>\n    <tr>\n      <th>2</th>\n      <td>2002</td>\n      <td>1</td>\n      <td>3</td>\n      <td>2</td>\n      <td>0</td>\n      <td>1581</td>\n      <td>1578</td>\n      <td>0</td>\n      <td>625</td>\n      <td>False</td>\n      <td>False</td>\n      <td>True</td>\n      <td>True</td>\n      <td>0</td>\n      <td>0</td>\n      <td>1</td>\n    </tr>\n    <tr>\n      <th>3</th>\n      <td>2004</td>\n      <td>1</td>\n      <td>4</td>\n      <td>2</td>\n      <td>0</td>\n      <td>1829</td>\n      <td>2277</td>\n      <td>479</td>\n      <td>0</td>\n      <td>True</td>\n      <td>False</td>\n      <td>True</td>\n      <td>True</td>\n      <td>1</td>\n      <td>0</td>\n      <td>0</td>\n    </tr>\n    <tr>\n      <th>4</th>\n      <td>2006</td>\n      <td>1</td>\n      <td>4</td>\n      <td>2</td>\n      <td>0</td>\n      <td>1580</td>\n      <td>1749</td>\n      <td>430</td>\n      <td>0</td>\n      <td>True</td>\n      <td>False</td>\n      <td>True</td>\n      <td>True</td>\n      <td>1</td>\n      <td>0</td>\n      <td>0</td>\n    </tr>\n  </tbody>\n</table>\n</div>"
     },
     "metadata": {},
     "output_type": "display_data"
    },
    {
     "name": "stdout",
     "output_type": "stream",
     "text": [
      "[[1978 1 4 ... 1 0 0]\n",
      " [1958 1 3 ... 1 0 0]\n",
      " [2002 1 3 ... 0 0 1]\n",
      " ...\n",
      " [1983 1 1 ... 0 0 1]\n",
      " [1981 1 3 ... 1 0 0]\n",
      " [1980 1 3 ... 1 0 0]]\n"
     ]
    }
   ],
   "source": [
    "# Load the dataset\n",
    "\n",
    "dataset = pd.read_csv(\"../Datasets/ml_house_data_set_updated.csv\");\n",
    "\n",
    "# Remove fields we do not want to include in our model\n",
    "\n",
    "del dataset[\"house_number\"];\n",
    "del dataset[\"unit_number\"];\n",
    "del dataset[\"street_name\"];\n",
    "del dataset[\"zip_code\"];\n",
    "\n",
    "sale_price = dataset[\"sale_price\"];\n",
    "\n",
    "# Remove the sale price from the feature data ( Because we are trying to predict it )\n",
    "del dataset[\"sale_price\"];\n",
    "\n",
    "# Remove city so we don't have to one-hot encode it and end up with 60+ labels\n",
    "del dataset[\"city\"];\n",
    "\n",
    "features = dataset;\n",
    "\n",
    "# Replace categorical data such as \"garage_type\" and \"city\" with one-hot encoded data\n",
    "# https://stackoverflow.com/questions/77643432/why-is-pd-get-dummies-returning-boolean-values-instead-of-the-binaries-of-0-1\n",
    "features = pd.get_dummies(features, columns=[\"garage_type\"], dtype=int);\n",
    "\n",
    "print_line(features.columns);\n",
    "\n",
    "notebook_print(features.head());\n",
    "\n",
    "# Turn the data into numpy arrays\n",
    "\n",
    "features = features.values;\n",
    "sale_price = sale_price.values;\n",
    "\n",
    "print(features);"
   ],
   "metadata": {
    "collapsed": false,
    "ExecuteTime": {
     "start_time": "2024-10-26T06:50:50.679938Z",
     "end_time": "2024-10-26T06:50:50.774521Z"
    }
   }
  },
  {
   "cell_type": "code",
   "execution_count": 127,
   "outputs": [],
   "source": [
    "# Split the data into training and testing sets\n",
    "\n",
    "RANDOM_STATE = 69;\n",
    "\n",
    "features_train, features_test, sale_price_train, sale_price_test = train_test_split(\n",
    "    features,\n",
    "    sale_price,\n",
    "    train_size=0.8,\n",
    "    random_state=RANDOM_STATE\n",
    ");\n",
    "\n",
    "gradiant_boosting_regressor = ensemble.GradientBoostingRegressor(\n",
    "    n_estimators=1000, # Number of decision trees to build\n",
    "    learning_rate=0.1, # How much each additional decision tree influences the final prediction\n",
    "    max_depth=5, # How deep each decision tree can be\n",
    "    min_samples_leaf=6, # Minimum number of samples required to be at a leaf node\n",
    "    max_features=0.1, # Percentage of features to consider when looking for the best split\n",
    "    loss=\"huber\", # How to calculate the model's error\n",
    "    random_state=RANDOM_STATE\n",
    ");\n",
    "\n",
    "gradiant_boosting_regressor.fit(features_train, sale_price_train);"
   ],
   "metadata": {
    "collapsed": false,
    "ExecuteTime": {
     "start_time": "2024-10-26T06:50:50.778556Z",
     "end_time": "2024-10-26T06:51:04.049397Z"
    }
   }
  },
  {
   "cell_type": "code",
   "execution_count": 128,
   "outputs": [
    {
     "name": "stdout",
     "output_type": "stream",
     "text": [
      "Exporting model...\n",
      "\n",
      "Model saved to ../Outputs/gradient_boosting_regressor.pkl\n",
      "\n"
     ]
    }
   ],
   "source": [
    "# Export the trained model in pickle format\n",
    "print_line(\"Exporting model...\");\n",
    "\n",
    "OUTPUT_DIRECTORY = \"../Outputs\";\n",
    "\n",
    "MODEL_FILE_NAME = \"gradient_boosting_regressor\";\n",
    "\n",
    "PICKLE_OUTPUT_PATH = f\"{OUTPUT_DIRECTORY}/{MODEL_FILE_NAME}.pkl\";\n",
    "ONNX_OUTPUT_PATH = f\"{OUTPUT_DIRECTORY}/{MODEL_FILE_NAME}.onnx\";\n",
    "\n",
    "\n",
    "joblib.dump(gradiant_boosting_regressor, PICKLE_OUTPUT_PATH);\n",
    "\n",
    "print_line(f\"Model saved to {PICKLE_OUTPUT_PATH}\");"
   ],
   "metadata": {
    "collapsed": false,
    "ExecuteTime": {
     "start_time": "2024-10-26T06:51:04.048588Z",
     "end_time": "2024-10-26T06:51:04.088482Z"
    }
   }
  },
  {
   "cell_type": "code",
   "execution_count": 129,
   "outputs": [
    {
     "name": "stdout",
     "output_type": "stream",
     "text": [
      "[[1.992e+03 1.000e+00 3.000e+00 1.000e+00 1.000e+00 1.340e+03 1.345e+03\n",
      "  4.020e+02 0.000e+00 0.000e+00 0.000e+00 1.000e+00 1.000e+00 1.000e+00\n",
      "  0.000e+00 0.000e+00]]\n",
      "\n",
      "Model saved to ../Outputs/gradient_boosting_regressor.onnx\n",
      "\n"
     ]
    }
   ],
   "source": [
    "# Export the trained model in ONNX format\n",
    "# See: https://onnx.ai/sklearn-onnx/\n",
    "\n",
    "from skl2onnx import to_onnx;\n",
    "import numpy as np;\n",
    "\n",
    "# Convert the first row of the training data to a float32 numpy array\n",
    "features_test_onnx_input = features_train[0:1].astype(np.float32);\n",
    "\n",
    "print_line(features_test_onnx_input);\n",
    "\n",
    "onnx_model = to_onnx(\n",
    "    model=gradiant_boosting_regressor,\n",
    "    X=features_test_onnx_input,\n",
    "    name=\"gradient_boosting_regressor\"\n",
    ");\n",
    "\n",
    "onnx_graph = onnx_model.graph;\n",
    "input_graph = onnx_graph.input;\n",
    "output_graph = onnx_graph.output;\n",
    "\n",
    "first_input_node = input_graph[0];\n",
    "first_output_node = output_graph[0];\n",
    "\n",
    "# https://imgur.com/a/0riFX4S\n",
    "first_input_node.type.tensor_type.shape.dim[0].dim_param = \"batch_size\";\n",
    "first_output_node.type.tensor_type.shape.dim[0].dim_param = \"batch_size\";\n",
    "\n",
    "with open(ONNX_OUTPUT_PATH, \"wb\") as file_stream:\n",
    "    file_stream.write(onnx_model.SerializeToString())\n",
    "\n",
    "print_line(f\"Model saved to {ONNX_OUTPUT_PATH}\");"
   ],
   "metadata": {
    "collapsed": false,
    "ExecuteTime": {
     "start_time": "2024-10-26T06:51:04.105689Z",
     "end_time": "2024-10-26T06:51:04.551899Z"
    }
   }
  },
  {
   "cell_type": "markdown",
   "source": [],
   "metadata": {
    "collapsed": false
   }
  },
  {
   "cell_type": "code",
   "execution_count": 130,
   "outputs": [
    {
     "name": "stdout",
     "output_type": "stream",
     "text": [
      "[566000.2  174620.83 678686.4  ... 327964.28 586015.4  262265.75]\n",
      "\n",
      "[566000.25545769 174621.00732646 678686.42226962 ... 327964.29041754\n",
      " 586015.41018759 262265.77130506]\n"
     ]
    }
   ],
   "source": [
    "# Verify the ONNX model against the actual model using the entire test set\n",
    "\n",
    "import onnxruntime as rt;\n",
    "\n",
    "onnx_session = rt.InferenceSession(ONNX_OUTPUT_PATH);\n",
    "\n",
    "onnx_input_name = onnx_session.get_inputs()[0].name;\n",
    "onnx_output_name = onnx_session.get_outputs()[0].name;\n",
    "\n",
    "features_test_onnx_input = {onnx_input_name: features_test.astype(np.float32)};\n",
    "\n",
    "predicted_sales_prices_onnx = onnx_session.run(None, features_test_onnx_input)[0].flatten();\n",
    "predicted_sales_prices_actual = gradiant_boosting_regressor.predict(features_test);\n",
    "\n",
    "print_line(predicted_sales_prices_onnx);\n",
    "print(predicted_sales_prices_actual);\n",
    "\n",
    "TOLERANCE = 0.001;\n",
    "\n",
    "# Ensure the outputs are the same\n",
    "assert np.allclose(\n",
    "    predicted_sales_prices_onnx, predicted_sales_prices_actual,\n",
    "    rtol=TOLERANCE,\n",
    "    atol=TOLERANCE\n",
    ");"
   ],
   "metadata": {
    "collapsed": false,
    "ExecuteTime": {
     "start_time": "2024-10-26T06:51:04.612524Z",
     "end_time": "2024-10-26T06:51:04.783324Z"
    }
   }
  },
  {
   "cell_type": "code",
   "execution_count": 131,
   "outputs": [
    {
     "name": "stdout",
     "output_type": "stream",
     "text": [
      "Evaluating the model...\n",
      "\n",
      "Mean absolute error: 96695.63779626427\n",
      "\n",
      "Mean absolute error ( ONNX ): 96695.63485503747\n",
      "\n"
     ]
    }
   ],
   "source": [
    "# Evaluate the model\n",
    "\n",
    "print_line(\"Evaluating the model...\");\n",
    "\n",
    "mean_absolute_error_result = mean_absolute_error(sale_price_test, predicted_sales_prices_actual);\n",
    "print_line(f\"Mean absolute error: {mean_absolute_error_result}\");\n",
    "\n",
    "mean_absolute_error_result = mean_absolute_error(sale_price_test, predicted_sales_prices_onnx);\n",
    "print_line(f\"Mean absolute error ( ONNX ): {mean_absolute_error_result}\");"
   ],
   "metadata": {
    "collapsed": false,
    "ExecuteTime": {
     "start_time": "2024-10-26T06:51:04.784421Z",
     "end_time": "2024-10-26T06:51:04.786521Z"
    }
   }
  },
  {
   "cell_type": "code",
   "execution_count": 132,
   "outputs": [
    {
     "data": {
      "text/plain": "<Figure size 640x480 with 1 Axes>",
      "image/png": "[encoded data removed]"
     },
     "metadata": {},
     "output_type": "display_data"
    }
   ],
   "source": [
    "# Plot the results\n",
    "\n",
    "import matplotlib.pyplot as plt;\n",
    "\n",
    "plt.scatter(sale_price_test, predicted_sales_prices_actual, alpha=0.5);\n",
    "plt.xlabel(\"Actual Prices\");\n",
    "plt.ylabel(\"Predicted Prices\");\n",
    "plt.title(\"Actual Prices vs Predicted Prices\");"
   ],
   "metadata": {
    "collapsed": false,
    "ExecuteTime": {
     "start_time": "2024-10-26T06:51:04.794914Z",
     "end_time": "2024-10-26T06:51:04.867981Z"
    }
   }
  }
 ],
 "metadata": {
  "kernelspec": {
   "display_name": "Python 3",
   "language": "python",
   "name": "python3"
  },
  "language_info": {
   "codemirror_mode": {
    "name": "ipython",
    "version": 2
   },
   "file_extension": ".py",
   "mimetype": "text/x-python",
   "name": "python",
   "nbconvert_exporter": "python",
   "pygments_lexer": "ipython2",
   "version": "2.7.6"
  }
 },
 "nbformat": 4,
 "nbformat_minor": 0
}
